{
 "cells": [],
 "metadata": {
  "kernelspec": {
   "display_name": "vehicle-env",
   "language": "python",
   "name": "python3"
  },
  "language_info": {
   "name": "python",
   "version": "3.11.4"
  }
 },
 "nbformat": 4,
 "nbformat_minor": 5
}
